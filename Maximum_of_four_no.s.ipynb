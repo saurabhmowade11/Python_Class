{
 "cells": [
  {
   "cell_type": "code",
   "execution_count": 1,
   "id": "5faaafc9",
   "metadata": {},
   "outputs": [
    {
     "name": "stdout",
     "output_type": "stream",
     "text": [
      "Enter number 1:23\n",
      "Enter number 2:63\n",
      "Enter number 3:85\n",
      "Enter number 4:65\n",
      "85 i.e number three is_maximum\n"
     ]
    }
   ],
   "source": [
    "num1=input(\"Enter number 1:\")\n",
    "num2=input(\"Enter number 2:\")\n",
    "num3=input(\"Enter number 3:\")\n",
    "num4=input(\"Enter number 4:\")\n",
    "if(int(num1)==int(num2)==int(num3)==int(num4)):\n",
    "    print(\"All four number are same none of them is maximum\")\n",
    "else:\n",
    "    if(int(num1)>int(num2)):\n",
    "        if(int(num1)>int(num3)):\n",
    "            if(int(num1)>int(num4)):\n",
    "                print(int(num1), 'i.e number one is_maximum')\n",
    "            else:\n",
    "                print(int(num4), 'i.e number four is_maximum')\n",
    "        else:\n",
    "            if(int(num3)>int(num4)):\n",
    "                print(int(num3),'i.e number three is_maximum') \n",
    "            else:\n",
    "                print(int(num4),'i.e number four is_maximum')\n",
    "    else:\n",
    "        if(int(num2)>int(num3)):\n",
    "            if(int(num2)>int(num4)):\n",
    "                print(int(num2), 'i.e number two is_maximum')\n",
    "            else:\n",
    "                print(int(num4), 'i.e number four is_maximum')\n",
    "        else:\n",
    "            if(int(num3)>int(num4)):\n",
    "                print(int(num3),'i.e number three is_maximum')\n",
    "            else:\n",
    "                print(int(num4),'i.e number four is_maximum')\n"
   ]
  },
  {
   "cell_type": "code",
   "execution_count": null,
   "id": "1e01b35b",
   "metadata": {},
   "outputs": [],
   "source": []
  }
 ],
 "metadata": {
  "kernelspec": {
   "display_name": "Python 3 (ipykernel)",
   "language": "python",
   "name": "python3"
  },
  "language_info": {
   "codemirror_mode": {
    "name": "ipython",
    "version": 3
   },
   "file_extension": ".py",
   "mimetype": "text/x-python",
   "name": "python",
   "nbconvert_exporter": "python",
   "pygments_lexer": "ipython3",
   "version": "3.9.7"
  }
 },
 "nbformat": 4,
 "nbformat_minor": 5
}
