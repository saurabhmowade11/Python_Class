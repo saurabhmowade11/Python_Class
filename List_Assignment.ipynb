{
 "cells": [
  {
   "cell_type": "code",
   "execution_count": 5,
   "id": "0db3a9ee",
   "metadata": {},
   "outputs": [
    {
     "name": "stdout",
     "output_type": "stream",
     "text": [
      "100\n"
     ]
    }
   ],
   "source": [
    "#Q1.\n",
    "#Write a Python program to find the sum of all elements in a list using loop.\n",
    "#Input:- [10,20,30,40]\n",
    "#Output:- 100\n",
    "\n",
    "lst=[10,20,30,40]\n",
    "total=0\n",
    "for i in lst:\n",
    "    total=total+i\n",
    "print(total)"
   ]
  },
  {
   "cell_type": "code",
   "execution_count": 7,
   "id": "80d1370b",
   "metadata": {},
   "outputs": [
    {
     "name": "stdout",
     "output_type": "stream",
     "text": [
      "240000\n"
     ]
    }
   ],
   "source": [
    "#Q2.\n",
    "#Write a Python program to find the multiplication of all elements in a list using loop.\n",
    "#Input:- [10,20,30,40]\n",
    "#Output:- 240000\n",
    "\n",
    "lst=[10,20,30,40]\n",
    "total=1\n",
    "for i in lst:\n",
    "    total=total*i\n",
    "print(total)"
   ]
  },
  {
   "cell_type": "code",
   "execution_count": 8,
   "id": "62c7f75b",
   "metadata": {},
   "outputs": [
    {
     "name": "stdout",
     "output_type": "stream",
     "text": [
      "2321\n"
     ]
    }
   ],
   "source": [
    "#Q3.\n",
    "#Write a Python program to find the largest number from a list using loop.\n",
    "#Input:- [10,100,2321, 1,200,2]\n",
    "#Output:- 2321\n",
    "\n",
    "lst=[10,100,2321,1,200,2]\n",
    "for i in lst:\n",
    "    if(i!=max(lst)):\n",
    "        continue\n",
    "    elif(i==max(lst)):\n",
    "        print(i)"
   ]
  },
  {
   "cell_type": "code",
   "execution_count": 9,
   "id": "9e5656ea",
   "metadata": {},
   "outputs": [
    {
     "name": "stdout",
     "output_type": "stream",
     "text": [
      "1\n"
     ]
    }
   ],
   "source": [
    "#Q4.\n",
    "#Write a Python program to find the smallest number from a list using loop.\n",
    "#Input:- [10,100,2321, 1,200,2]\n",
    "#Output:- 1\n",
    "\n",
    "lst=[10,100,2321,1,200,2]\n",
    "for i in lst:\n",
    "    if(i!=min(lst)):\n",
    "        continue\n",
    "    elif(i==min(lst)):\n",
    "        print(i)"
   ]
  },
  {
   "cell_type": "code",
   "execution_count": 3,
   "id": "c1f0348b",
   "metadata": {},
   "outputs": [
    {
     "name": "stdout",
     "output_type": "stream",
     "text": [
      "2\n"
     ]
    }
   ],
   "source": [
    "#Q5.\n",
    "#Write a Python program to count the number of strings having length more than 2 and are palindrome in a list using loop.\n",
    "#Input:- ['ab', 'abc', 'aba', 'xyz', '1991']\n",
    "#Output:- 2\n",
    "\n",
    "lst=['ab', 'abc', 'aba', 'xyz', '1991']\n",
    "total=0\n",
    "\n",
    "for i in lst:\n",
    "    if(len(i)>=2 and i[0]==i[-1]):\n",
    "        total=total+1\n",
    "        continue\n",
    "else:\n",
    "    print(total)"
   ]
  },
  {
   "cell_type": "code",
   "execution_count": 2,
   "id": "4d495362",
   "metadata": {},
   "outputs": [
    {
     "name": "stdout",
     "output_type": "stream",
     "text": [
      "Element in the original list:\n",
      " [100, 10, 1, 298, 65, 483, 49876, 2, 80, 9, 9213]\n",
      "\n",
      "Element of the list after sorting in asendig orrder is:\n",
      " [1, 2, 9, 10, 65, 80, 100, 298, 483, 9213, 49876]\n"
     ]
    }
   ],
   "source": [
    "#Q6.\n",
    "#Write a Python program to sort a list in ascending order using loop.\n",
    "#Input:- [100,10,1,298,65,483,49876,2,80,9,9213]\n",
    "#Output:- [1,2,9,10,65,80,100,298,483,9213,49876]\n",
    "\n",
    "lst=[100,10,1,298,65,483,49876,2,80,9,9213]\n",
    "temp=0\n",
    "print(\"Element in the original list:\\n\",lst)\n",
    "for i in range(len(lst)):\n",
    "    for j in range(i+1,len(lst)):\n",
    "        if(lst[i]>lst[j]):\n",
    "            temp=lst[i]\n",
    "            lst[i]=lst[j]\n",
    "            lst[j]=temp\n",
    "print(\"\\nElement of the list after sorting in asendig orrder is:\\n\",lst)\n"
   ]
  },
  {
   "cell_type": "code",
   "execution_count": 2,
   "id": "c4bf6456",
   "metadata": {},
   "outputs": [
    {
     "name": "stdout",
     "output_type": "stream",
     "text": [
      "sorted list in increasing order of last element in each tuple:==>\n",
      " [(9, 1), (2, 3), (5, 4), (5, 5), (7, 6), (5, 9)]\n"
     ]
    }
   ],
   "source": [
    "#Q7.\n",
    "#Write a Python program to get a sorted list in increasing order of last element in each tuple in a given list using loop.\n",
    "#Input:- [(5,4),(9,1),(2,3),(5,9),(7,6),(5,5)]\n",
    "#output:- [(9,1),(2,3),(5,4),(5,5),(7,6),(5,9)]\n",
    "\n",
    "inplst=[(5,4),(9,1),(2,3),(5,9),(7,6),(5,5)]\n",
    "temp=()\n",
    "for i in range(len(inplst)):\n",
    "    for j in range(i+1,len(inplst)):\n",
    "        if(inplst[i][1]>inplst[j][1]):\n",
    "            temp=inplst[i]\n",
    "            inplst[i]=inplst[j]\n",
    "            inplst[j]=temp\n",
    "print(\"sorted list in increasing order of last element in each tuple:==>\\n\",inplst)\n"
   ]
  },
  {
   "cell_type": "code",
   "execution_count": 5,
   "id": "2cc8b48c",
   "metadata": {},
   "outputs": [
    {
     "name": "stdout",
     "output_type": "stream",
     "text": [
      "[10, 1, 11, 29, 876, 768, 92]\n"
     ]
    }
   ],
   "source": [
    "#Q8.\n",
    "#Write a Python program to remove fuplicate element from a list using loop.\n",
    "#Input:- [10,1,11,1,29,876,768,10,11,1,92,29,876]\n",
    "#Output:- [10,1,11,29,876,768,92]\n",
    "\n",
    "my_lst=[10,1,11,1,29,876,768,10,11,1,92,29,876]\n",
    "out_lst=[]\n",
    "for i in my_lst:\n",
    "    if(i not in out_lst):\n",
    "        out_lst=out_lst+[i]\n",
    "print(out_lst)"
   ]
  },
  {
   "cell_type": "code",
   "execution_count": 23,
   "id": "704893b9",
   "metadata": {},
   "outputs": [
    {
     "name": "stdout",
     "output_type": "stream",
     "text": [
      "Enter the list:==>[10,20,30]\n",
      "list is not empty\n"
     ]
    }
   ],
   "source": [
    "#Q9.\n",
    "#Write a Python program to check a list is empty or not?\n",
    "#Input:- []\n",
    "#Output:- List is empty\n",
    "#Input:- [10,20,30]\n",
    "#Output:- List is not empty\n",
    "\n",
    "lst=eval(input(\"Enter the list:==>\"))\n",
    "if(lst==[]):\n",
    "    print(\"list is empty\")\n",
    "else:\n",
    "    print(\"list is not empty\")"
   ]
  },
  {
   "cell_type": "code",
   "execution_count": 35,
   "id": "8c23a318",
   "metadata": {},
   "outputs": [
    {
     "name": "stdout",
     "output_type": "stream",
     "text": [
      "[10, 10.2, (10+20j), 'Python', [10, 20], (10, 20)]\n"
     ]
    }
   ],
   "source": [
    "#Q10.\n",
    "#Write a Python program to copy a list using loop.\n",
    "#inp_lst = [10,10.20,10+20j, 'Python', [10,20], (10,20)]\n",
    "#out_lst = [10,10.20,10+20j, 'Python', [10,20], (10,20)]\n",
    "\n",
    "inp_lst=[10,10.20,10+20j, 'Python', [10,20], (10,20)]\n",
    "out_lst=[]\n",
    "for i in inp_lst:\n",
    "    out_lst=out_lst+[i]\n",
    "else:\n",
    "    print(out_lst)"
   ]
  },
  {
   "cell_type": "code",
   "execution_count": 14,
   "id": "68e84d90",
   "metadata": {},
   "outputs": [
    {
     "name": "stdout",
     "output_type": "stream",
     "text": [
      "List containing element with length greater than or equal to 4 is below:\n",
      "\n",
      "['much', 'wood', 'would', 'woodchuck', 'chuck', 'woodchuck', 'could', 'chuck', 'wood']\n",
      "\n",
      "After removal of duplicate elements the new list is below:\n",
      "\n",
      "['much', 'wood', 'would', 'woodchuck', 'chuck', 'could']\n"
     ]
    }
   ],
   "source": [
    "#Q11.\n",
    "#Write a Python program to find the list of words that are longer than or equal to 4 from a given string.\n",
    "#Input:- 'How much wood would a woodchuck chuck if a woodchuck could chuck wood'\n",
    "#Output:- ['much', 'wood', 'would', 'woodchuck', 'chuck', 'could']\n",
    "#Note:- Duplicate should be avoided.\n",
    "#input_str='How much wood would a woodchuck chuck if a woodchuck could chuck wood'\n",
    "#out_lst=[]\n",
    "#char=''\n",
    "#for i in range(len(input_str)):\n",
    "#    if(input_str[i]==' '):\n",
    "#        if(len(char)>=4):\n",
    "#            out_lst=out_lst+[char]\n",
    "#            char=''\n",
    "#    else:\n",
    "#        char=char+input_str[i]\n",
    "#        \n",
    "#else:\n",
    "#    out_lst=out_lst+[char]\n",
    "#    print(out_lst)\n",
    "\n",
    "input_str='How much wood would a woodchuck chuck if a woodchuck could chuck wood'\n",
    "\n",
    "out_lst=[]\n",
    "duplicate_removal=[]\n",
    "\n",
    "my_str=input_str.split()\n",
    "\n",
    "for i in my_str:\n",
    "    if(len(i)>=4):\n",
    "        out_lst.append(i)\n",
    "\n",
    "print(\"List containing element with length greater than or equal to 4 is below:\\n\")        \n",
    "print(out_lst)\n",
    "\n",
    "for j in out_lst:\n",
    "    if(j not in duplicate_removal):\n",
    "        duplicate_removal=duplicate_removal+[j]\n",
    "else:\n",
    "    print(\"\\nAfter removal of duplicate elements the new list is below:\\n\")\n",
    "    print(duplicate_removal)"
   ]
  },
  {
   "cell_type": "code",
   "execution_count": 15,
   "id": "5a74752a",
   "metadata": {},
   "outputs": [
    {
     "name": "stdout",
     "output_type": "stream",
     "text": [
      "True\n"
     ]
    }
   ],
   "source": [
    "#Q12.\n",
    "#Write a Python program which takes two list as input and returns True if they have at least 3 common elements.\n",
    "#inp_lst1 = [10,20,'Python', 10.20, 10+20j, [10,20,30], (10,20,30)]\n",
    "#inp_lst2 = [(10,20,30),1,20+3j,100.2, 10+20j, [10,20,30],'Python']\n",
    "#Output:- True\n",
    "\n",
    "\n",
    "inp_lst1 = [10,20,'Python', 10.20, 10+20j, [10,20,30], (10,20,30)]\n",
    "inp_lst2 = [(10,20,30),1,20+3j,100.2, 10+20j, [10,20,30],'Python']\n",
    "\n",
    "common_ele=0\n",
    "\n",
    "for i in inp_lst1:\n",
    "    if i in inp_lst2:\n",
    "        common_ele+=1\n",
    "\n",
    "if(common_ele>=3):\n",
    "    print(\"True\")\n",
    "else:\n",
    "    print(\"False\")"
   ]
  },
  {
   "cell_type": "code",
   "execution_count": 16,
   "id": "34e64ee1",
   "metadata": {},
   "outputs": [
    {
     "name": "stdout",
     "output_type": "stream",
     "text": [
      "[[0, 0, 0, 0], [0, 1, 2, 3], [0, 2, 4, 6], [0, 3, 6, 9]]\n"
     ]
    }
   ],
   "source": [
    "#Q13.\n",
    "#Write a Python program to create a 4X4 2D matrix with below elements using loop and list comprehension both.\n",
    "#Output:- [[0,0,0,0],[0,1,2,3],[0,2,4,6],[0,3,6,9]]\n",
    "\n",
    "out_lst=[]\n",
    "for i in range(4):\n",
    "    in_lst=[]\n",
    "    for j in range(4):\n",
    "        in_lst.append(i*j)\n",
    "    out_lst.append(in_lst)\n",
    "print(out_lst)"
   ]
  },
  {
   "cell_type": "code",
   "execution_count": 27,
   "id": "29bddb7d",
   "metadata": {},
   "outputs": [
    {
     "name": "stdout",
     "output_type": "stream",
     "text": [
      "[[[0, 0, 0, 0, 0, 0], [0, 0, 0, 0, 0, 0], [0, 0, 0, 0, 0, 0], [0, 0, 0, 0, 0, 0]], [[0, 0, 0, 0, 0, 0], [1, 1, 1, 1, 1, 1], [2, 2, 2, 2, 2, 2], [3, 3, 3, 3, 3, 3]], [[0, 0, 0, 0, 0, 0], [2, 2, 2, 2, 2, 2], [4, 4, 4, 4, 4, 4], [6, 6, 6, 6, 6, 6]]]\n"
     ]
    }
   ],
   "source": [
    "#Q14.\n",
    "#Write a Python program to create a 3X4X6 3D matrix wiith below elements using loop\n",
    "#Output:- \n",
    "# [\n",
    "#     [[0,0,0,0,0,0],[0,0,0,0,0,0],[0,0,0,0,0,0],[0,0,0,0,0,0]],\n",
    "#     [[0,0,0,0,0,0],[1,1,1,1,1,1],[2,2,2,2,2,2],[3,3,3,3,3,3]],\n",
    "#     [[0,0,0,0,0,0],[2,2,2,2,2,2],[4,4,4,4,4,4],[6,6,6,6,6,6]]\n",
    "# ]\n",
    "\n",
    "\n",
    "out_lst=[]\n",
    "for i in range(3):\n",
    "    in_lst=[]\n",
    "    for j in range(4):\n",
    "        inmost_lst=[]\n",
    "        for k in range(6):\n",
    "            inmost_lst.append(j*i)\n",
    "        in_lst.append(inmost_lst)\n",
    "    out_lst.append(in_lst)\n",
    "print(out_lst)\n"
   ]
  },
  {
   "cell_type": "code",
   "execution_count": 36,
   "id": "cb85dba3",
   "metadata": {},
   "outputs": [
    {
     "name": "stdout",
     "output_type": "stream",
     "text": [
      "[21, 87, 45, 33, 1]\n"
     ]
    }
   ],
   "source": [
    "#Q15.\n",
    "#Write a Python program which takes a list of numbers as input and prints a new list after removing even numbers from it.\n",
    "#Input:- [10,21,22,98,87,45,33,1,2,100]\n",
    "#Output:- [21,87,45,33,1]\n",
    "\n",
    "input_lst=[10,21,22,98,87,45,33,1,2,100]\n",
    "output_lst=[]\n",
    "for i in input_lst:\n",
    "    if(i%2==1):\n",
    "        output_lst=output_lst+[i]\n",
    "else:\n",
    "    print(output_lst)"
   ]
  },
  {
   "cell_type": "code",
   "execution_count": null,
   "id": "ae959ba7",
   "metadata": {},
   "outputs": [],
   "source": []
  }
 ],
 "metadata": {
  "kernelspec": {
   "display_name": "Python 3 (ipykernel)",
   "language": "python",
   "name": "python3"
  },
  "language_info": {
   "codemirror_mode": {
    "name": "ipython",
    "version": 3
   },
   "file_extension": ".py",
   "mimetype": "text/x-python",
   "name": "python",
   "nbconvert_exporter": "python",
   "pygments_lexer": "ipython3",
   "version": "3.9.7"
  }
 },
 "nbformat": 4,
 "nbformat_minor": 5
}
