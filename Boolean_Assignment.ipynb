{
 "cells": [
  {
   "cell_type": "code",
   "execution_count": 1,
   "id": "001a7293",
   "metadata": {},
   "outputs": [
    {
     "name": "stdout",
     "output_type": "stream",
     "text": [
      "<class 'bool'>\n",
      "140721949726824\n"
     ]
    }
   ],
   "source": [
    "#Q1. Declare a boolean value store it in a variable. Check its type and id\n",
    "\n",
    "w=True\n",
    "\n",
    "print(type(w))\n",
    "print(id(w))"
   ]
  },
  {
   "cell_type": "code",
   "execution_count": 3,
   "id": "a4515c3b",
   "metadata": {},
   "outputs": [
    {
     "name": "stdout",
     "output_type": "stream",
     "text": [
      "140721949726824\n",
      "140721949726824\n"
     ]
    }
   ],
   "source": [
    "#Q2. Take one boolean value between 0-256 assign it to two different variables. Check the id of both the variables\n",
    "\n",
    "j=bool(45)\n",
    "k=bool(45)\n",
    "\n",
    "print(id(j))\n",
    "print(id(k))\n"
   ]
  },
  {
   "cell_type": "code",
   "execution_count": 4,
   "id": "99877b51",
   "metadata": {},
   "outputs": [
    {
     "name": "stdout",
     "output_type": "stream",
     "text": [
      "2\n",
      "0\n",
      "1\n",
      "1.0\n",
      "0\n",
      "1\n",
      "1\n"
     ]
    }
   ],
   "source": [
    "#Q3. Arithmatic operations on two Boolean values\n",
    "\n",
    "m=bool(72)\n",
    "n=bool(3)\n",
    "\n",
    "print(m+n)\n",
    "print(m-n)\n",
    "print(m*n)\n",
    "print(m/n)\n",
    "print(m%n)\n",
    "print(m//n)\n",
    "print(m**n)\n"
   ]
  },
  {
   "cell_type": "code",
   "execution_count": 8,
   "id": "8eb2cd86",
   "metadata": {},
   "outputs": [
    {
     "name": "stdout",
     "output_type": "stream",
     "text": [
      "True\n",
      "False\n",
      "True\n",
      "False\n"
     ]
    }
   ],
   "source": [
    "#Q4. Comparison Operators on boolean values\n",
    "\n",
    "p=bool(64)\n",
    "q=bool(0)\n",
    "\n",
    "print(p>q)\n",
    "print(p<q)\n",
    "print(p>=q)\n",
    "print(p<=q)"
   ]
  },
  {
   "cell_type": "code",
   "execution_count": 10,
   "id": "317c977d",
   "metadata": {},
   "outputs": [
    {
     "name": "stdout",
     "output_type": "stream",
     "text": [
      "True\n",
      "False\n"
     ]
    }
   ],
   "source": [
    "#Q5. Equality Operators on boolean values\n",
    "\n",
    "e=bool(65)\n",
    "f=bool(15)\n",
    "\n",
    "print(e==f)\n",
    "print(e!=f)"
   ]
  },
  {
   "cell_type": "code",
   "execution_count": 11,
   "id": "6c42a08c",
   "metadata": {},
   "outputs": [
    {
     "name": "stdout",
     "output_type": "stream",
     "text": [
      "True\n",
      "False\n",
      "False\n",
      "False\n",
      "True\n",
      "True\n",
      "True\n",
      "False\n",
      "False\n",
      "True\n"
     ]
    }
   ],
   "source": [
    "#Q6. Logical Operations on Boolean values\n",
    "\n",
    "print(True and True)\n",
    "print(False and True)\n",
    "print(True and False)\n",
    "print(False and False)\n",
    "\n",
    "print(True or True)\n",
    "print(False or True)\n",
    "print(True or False)\n",
    "print(False or False)\n",
    "\n",
    "print(not True)\n",
    "print(not False)"
   ]
  },
  {
   "cell_type": "code",
   "execution_count": 13,
   "id": "5b7818ec",
   "metadata": {},
   "outputs": [
    {
     "name": "stdout",
     "output_type": "stream",
     "text": [
      "True\n",
      "True\n",
      "True\n",
      "-2\n",
      "4\n",
      "0\n"
     ]
    }
   ],
   "source": [
    "#Q7. Bitwise Operations on Boolean Values\n",
    "\n",
    "print(True & True)\n",
    "print(True | False)\n",
    "print(True ^ False)\n",
    "print(~True)\n",
    "print(True<<2)\n",
    "print(True>>2)"
   ]
  },
  {
   "cell_type": "code",
   "execution_count": 20,
   "id": "7ad3b32d",
   "metadata": {},
   "outputs": [
    {
     "name": "stdout",
     "output_type": "stream",
     "text": [
      "True\n",
      "False\n",
      "True\n",
      "False\n"
     ]
    }
   ],
   "source": [
    "#Q8. Check the out of the expression inside the print statement\n",
    "\n",
    "a = True\n",
    "b =True\n",
    "\n",
    "#print(id(a))\n",
    "#print(id(b))\n",
    "\n",
    "print( a is b )\n",
    "print( a is not b)\n",
    "\n",
    "c = False\n",
    "d = False\n",
    "\n",
    "#print(id(c))\n",
    "#print(id(d))\n",
    "\n",
    "print(c is d)\n",
    "print(c is not d)\n"
   ]
  },
  {
   "cell_type": "code",
   "execution_count": 21,
   "id": "a9a9998d",
   "metadata": {},
   "outputs": [
    {
     "name": "stdout",
     "output_type": "stream",
     "text": [
      "True\n",
      "True\n",
      "True\n",
      "True\n",
      "True\n"
     ]
    }
   ],
   "source": [
    "#Q9. Membership Operations on boolean values\n",
    "\n",
    "print(True in[10,10.20,10+20j,'Python',True])\n",
    "print(False in(10,10.20,10+20j,'Python',False))\n",
    "print(True in{1,2,3,True})\n",
    "print(True in{True:100,False:200,True:300})\n",
    "print(False in{True:100,False:200,True:300})"
   ]
  },
  {
   "cell_type": "code",
   "execution_count": null,
   "id": "8f9991d6",
   "metadata": {},
   "outputs": [],
   "source": []
  }
 ],
 "metadata": {
  "kernelspec": {
   "display_name": "Python 3 (ipykernel)",
   "language": "python",
   "name": "python3"
  },
  "language_info": {
   "codemirror_mode": {
    "name": "ipython",
    "version": 3
   },
   "file_extension": ".py",
   "mimetype": "text/x-python",
   "name": "python",
   "nbconvert_exporter": "python",
   "pygments_lexer": "ipython3",
   "version": "3.9.7"
  }
 },
 "nbformat": 4,
 "nbformat_minor": 5
}
