{
 "cells": [
  {
   "cell_type": "code",
   "execution_count": 1,
   "id": "f479ae39",
   "metadata": {},
   "outputs": [
    {
     "name": "stdout",
     "output_type": "stream",
     "text": [
      "<class 'int'> 2592927803984\n"
     ]
    }
   ],
   "source": [
    "#Q1. Declare an int value store it in variable. Check the type and print the id of the same\n",
    "\n",
    "a=10\n",
    "print(type(a), id(a))\n"
   ]
  },
  {
   "cell_type": "code",
   "execution_count": 2,
   "id": "88a3a0b2",
   "metadata": {},
   "outputs": [
    {
     "name": "stdout",
     "output_type": "stream",
     "text": [
      "2592927803984\n",
      "2592927803984\n"
     ]
    }
   ],
   "source": [
    "# Q2. Take one int value between 0-256, assign it two different variables and check the id of two variables.\n",
    "\n",
    "a=10\n",
    "b=10\n",
    "print(id(a))\n",
    "print(id(b))"
   ]
  },
  {
   "cell_type": "code",
   "execution_count": 3,
   "id": "e91a0d1e",
   "metadata": {},
   "outputs": [
    {
     "name": "stdout",
     "output_type": "stream",
     "text": [
      "2593004617360\n",
      "2593004617328\n"
     ]
    }
   ],
   "source": [
    "# Q3. Take one int value either less than -5 or greater than 256, assign it to two different variables.\n",
    "# Check the id of both the variables\n",
    "\n",
    "a=300\n",
    "b=300\n",
    "print(id(a))\n",
    "print(id(b))\n"
   ]
  },
  {
   "cell_type": "code",
   "execution_count": 4,
   "id": "a37d8d6c",
   "metadata": {},
   "outputs": [
    {
     "name": "stdout",
     "output_type": "stream",
     "text": [
      "71\n",
      "65\n",
      "204\n",
      "22.666666666666668\n",
      "2\n",
      "22\n",
      "314432\n"
     ]
    }
   ],
   "source": [
    "# Q4. Arithmatic operations on two integers\n",
    "# sum,difference,product,division,quotient,remainder and first no. to the power second no.\n",
    "\n",
    "a=68\n",
    "b=3\n",
    "print(a+b)\n",
    "print(a-b)\n",
    "print(a*b)\n",
    "print(a/b)\n",
    "print(a%b)\n",
    "print(a//b)\n",
    "print(a**b)\n"
   ]
  },
  {
   "cell_type": "code",
   "execution_count": 5,
   "id": "b9f17c53",
   "metadata": {},
   "outputs": [
    {
     "name": "stdout",
     "output_type": "stream",
     "text": [
      "False\n",
      "True\n",
      "False\n",
      "True\n"
     ]
    }
   ],
   "source": [
    "#Q5. Comparison operators on integers\n",
    "\n",
    "u=50\n",
    "v=71\n",
    "print(u>v)\n",
    "print(u<v)\n",
    "print(u>=v)\n",
    "print(u<=v)"
   ]
  },
  {
   "cell_type": "code",
   "execution_count": 6,
   "id": "f1fdcb14",
   "metadata": {},
   "outputs": [
    {
     "name": "stdout",
     "output_type": "stream",
     "text": [
      "False\n",
      "True\n"
     ]
    }
   ],
   "source": [
    "#Q6. Equality operator on integers\n",
    "\n",
    "j=41\n",
    "k=37\n",
    "print(j==k)\n",
    "print(j!=k)"
   ]
  },
  {
   "cell_type": "code",
   "execution_count": 7,
   "id": "3c24d46b",
   "metadata": {},
   "outputs": [
    {
     "name": "stdout",
     "output_type": "stream",
     "text": [
      "20\n",
      "0\n",
      "0\n",
      "0\n",
      "10\n",
      "20\n",
      "20\n",
      "0\n",
      "False\n",
      "True\n"
     ]
    }
   ],
   "source": [
    "#Q7. Logical Operators\n",
    "\n",
    "print(10 and 20)\n",
    "print(0 and 20)\n",
    "print(20 and 0)\n",
    "print(0 and 0)\n",
    "print(10 or 20)\n",
    "print(0 or 20)\n",
    "print(20 or 0)\n",
    "print(0 or 0)\n",
    "print(not 10)\n",
    "print(not 0)\n"
   ]
  },
  {
   "cell_type": "code",
   "execution_count": 20,
   "id": "a6191ad8",
   "metadata": {},
   "outputs": [
    {
     "name": "stdout",
     "output_type": "stream",
     "text": [
      "0\n",
      "0\n",
      "30\n",
      "30\n",
      "30\n",
      "30\n",
      "-11\n",
      "40\n",
      "2\n"
     ]
    }
   ],
   "source": [
    "#Q8. Bitwise operator\n",
    "\n",
    "print(10 & 20)\n",
    "\n",
    "\n",
    "#print(bin(10))\n",
    "#print(bin(20))\n",
    "\n",
    "# binary equivalent of 10 => 1010 i.e 01010\n",
    "# binary equivalent of 20 => 10100\n",
    "# bitwise & of 10 and 20 is\n",
    "# 01010\n",
    "# 10100\n",
    "#---------\n",
    "# 00000\n",
    "# Therefore the value of bitwise & operation on 10 and 20 is 0\n",
    "print(0b00000)\n",
    "\n",
    "\n",
    "print(10 | 20)\n",
    "\n",
    "#print(bin(10))\n",
    "#print(bin(20))\n",
    "\n",
    "# binary equivalent of 10 => 1010 i.e 01010\n",
    "# binary equivalent of 20 => 10100\n",
    "# bitwise | of 10 and 20 is\n",
    "# 01010\n",
    "# 10100\n",
    "#---------\n",
    "# 11110\n",
    "# Therefore the value of bitwise | operation on 10 and 20 is 30\n",
    "print(0b11110)\n",
    "\n",
    "\n",
    "print(10 ^ 20)\n",
    "\n",
    "#print(bin(10))\n",
    "#print(bin(20))\n",
    "\n",
    "# binary equivalent of 10 => 1010 i.e 01010\n",
    "# binary equivalent of 20 => 10100\n",
    "# bitwise ^ of 10 and 20 is\n",
    "# 01010\n",
    "# 10100\n",
    "#---------\n",
    "# 11110\n",
    "# Therefore the value of bitwise ^ operation on 10 and 20 is 30\n",
    "print(0b11110)\n",
    "\n",
    "\n",
    "print(~10)\n",
    "\n",
    "print(10<<2)\n",
    "\n",
    "print(10>>2)"
   ]
  },
  {
   "cell_type": "code",
   "execution_count": 21,
   "id": "5f0732b6",
   "metadata": {},
   "outputs": [
    {
     "name": "stdout",
     "output_type": "stream",
     "text": [
      "True\n",
      "False\n",
      "False\n",
      "True\n"
     ]
    }
   ],
   "source": [
    "#Q9. Check output of the expression inside the print statement\n",
    "\n",
    "a=10\n",
    "b=10\n",
    "print(a is b)\n",
    "print(a is not b)\n",
    "\n",
    "a=1000\n",
    "b=1000\n",
    "print(a is b)\n",
    "print(a is not b)\n"
   ]
  },
  {
   "cell_type": "code",
   "execution_count": 24,
   "id": "b3032ad5",
   "metadata": {},
   "outputs": [
    {
     "name": "stdout",
     "output_type": "stream",
     "text": [
      "20\n"
     ]
    }
   ],
   "source": [
    "#Q10. Check the output of the expression inside the print statement\n",
    "\n",
    "print(10+(10*32)//2**5 & 20+(~(-10))<<2)"
   ]
  },
  {
   "cell_type": "code",
   "execution_count": 26,
   "id": "65b65f29",
   "metadata": {},
   "outputs": [
    {
     "name": "stdout",
     "output_type": "stream",
     "text": [
      "True\n",
      "True\n",
      "True\n",
      "True\n",
      "True\n",
      "True\n"
     ]
    }
   ],
   "source": [
    "#Q11. Membership Operation\n",
    "\n",
    "print('2' in 'Python2.7.8')\n",
    "print(10 in [10,10.20,10+20j,'Python'])\n",
    "print(10 in (10,10.20,10+20j,'Python'))\n",
    "print(2 in {1,2,3})\n",
    "print(3 in {1:10, 2:200, 3:300})\n",
    "print(10 in range(20))"
   ]
  },
  {
   "cell_type": "code",
   "execution_count": 27,
   "id": "c30611d0",
   "metadata": {},
   "outputs": [
    {
     "name": "stdout",
     "output_type": "stream",
     "text": [
      "Binary Equivalent of the Number 9876 is ==> 0b10011010010100\n",
      "Octal Equivalent of the Number 9876 is ==> 0o23224\n",
      "Hexadecimal Equivalent of the Number 9876 is ==> 0x2694\n"
     ]
    }
   ],
   "source": [
    "#Q12. Declare one binary, octal and hexadecimal value and store them in three different variables.\n",
    "# convert 9876 to it's binary, octal and hexadecimal equivalent and print them.\n",
    "\n",
    "e=0b1010000\n",
    "f=0o7436\n",
    "g=0xf1206\n",
    "\n",
    "number=9876\n",
    "print(\"Binary Equivalent of the Number 9876 is ==>\", bin(number))\n",
    "print(\"Octal Equivalent of the Number 9876 is ==>\", oct(number))\n",
    "print(\"Hexadecimal Equivalent of the Number 9876 is ==>\", hex(number))"
   ]
  },
  {
   "cell_type": "code",
   "execution_count": 34,
   "id": "2e20a8ea",
   "metadata": {},
   "outputs": [
    {
     "name": "stdout",
     "output_type": "stream",
     "text": [
      "80\n",
      "3870\n",
      "64222\n",
      "\n",
      " 0b1010000\n",
      "0o7436\n",
      "0xfade\n",
      "\n",
      " 0b1010000\n",
      "0b1111101011011110\n",
      "\n",
      " 0o175336\n",
      "0o7436\n",
      "\n",
      " 0x50\n",
      "0xfade\n"
     ]
    }
   ],
   "source": [
    "#Q13 Check the output\n",
    "\n",
    "a=0b1010000\n",
    "print(a)\n",
    "\n",
    "b=0o7436\n",
    "print(b)\n",
    "\n",
    "c=0xfade\n",
    "print(c)\n",
    "\n",
    "print('\\n',bin(80))\n",
    "print(oct(3870))\n",
    "print(hex(64222))\n",
    "\n",
    "print('\\n',bin(0b1010000))\n",
    "print(bin(0xfade))\n",
    "\n",
    "print('\\n',oct(0xfade))\n",
    "print(oct(0o7436))\n",
    "\n",
    "print('\\n',hex(0b1010000))\n",
    "print(hex(0xfade))"
   ]
  },
  {
   "cell_type": "code",
   "execution_count": null,
   "id": "69029edf",
   "metadata": {},
   "outputs": [],
   "source": []
  }
 ],
 "metadata": {
  "kernelspec": {
   "display_name": "Python 3 (ipykernel)",
   "language": "python",
   "name": "python3"
  },
  "language_info": {
   "codemirror_mode": {
    "name": "ipython",
    "version": 3
   },
   "file_extension": ".py",
   "mimetype": "text/x-python",
   "name": "python",
   "nbconvert_exporter": "python",
   "pygments_lexer": "ipython3",
   "version": "3.9.7"
  }
 },
 "nbformat": 4,
 "nbformat_minor": 5
}
