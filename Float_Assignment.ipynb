{
 "cells": [
  {
   "cell_type": "code",
   "execution_count": 1,
   "id": "2bd8e06c",
   "metadata": {},
   "outputs": [
    {
     "name": "stdout",
     "output_type": "stream",
     "text": [
      "<class 'float'>\n",
      "2184821449680\n"
     ]
    }
   ],
   "source": [
    "#Q1. Declare a float value store it in variable check its type and id.\n",
    "\n",
    "v=20.35\n",
    "print(type(v))\n",
    "print(id(v))\n"
   ]
  },
  {
   "cell_type": "code",
   "execution_count": 7,
   "id": "0eb6d1a8",
   "metadata": {},
   "outputs": [
    {
     "name": "stdout",
     "output_type": "stream",
     "text": [
      "22.599999999999998\n",
      "17.8\n",
      "48.48\n",
      "8.416666666666666\n",
      "1.0\n",
      "8.0\n",
      "1357.82339334346\n"
     ]
    }
   ],
   "source": [
    "#Q2. Arithmatic operations on two float variables\n",
    "\n",
    "h=20.20\n",
    "k=2.40\n",
    "\n",
    "print(h+k)\n",
    "print(h-k)\n",
    "print(h*k)\n",
    "print(h/k)\n",
    "print(h%k)\n",
    "print(h//k)\n",
    "print(h**k)"
   ]
  },
  {
   "cell_type": "code",
   "execution_count": 8,
   "id": "67ccc462",
   "metadata": {},
   "outputs": [
    {
     "name": "stdout",
     "output_type": "stream",
     "text": [
      "False\n",
      "True\n",
      "False\n",
      "True\n"
     ]
    }
   ],
   "source": [
    "#Q3. Comparison operators on float values\n",
    "\n",
    "d=38.50\n",
    "e=41.20\n",
    "\n",
    "print(d>e)\n",
    "print(d<e)\n",
    "print(d>=e)\n",
    "print(d<=e)"
   ]
  },
  {
   "cell_type": "code",
   "execution_count": 9,
   "id": "2385b0e8",
   "metadata": {},
   "outputs": [
    {
     "name": "stdout",
     "output_type": "stream",
     "text": [
      "False\n",
      "True\n"
     ]
    }
   ],
   "source": [
    "#Q4. Equality Operators on float values\n",
    "\n",
    "t=62.60\n",
    "w=51.30\n",
    "\n",
    "print(t==w)\n",
    "print(t!=w)"
   ]
  },
  {
   "cell_type": "code",
   "execution_count": 10,
   "id": "eb60112a",
   "metadata": {},
   "outputs": [
    {
     "name": "stdout",
     "output_type": "stream",
     "text": [
      "20.3\n",
      "0.0\n",
      "0.0\n",
      "0.0\n",
      "10.2\n",
      "20.3\n",
      "20.3\n",
      "0.0\n",
      "False\n",
      "True\n"
     ]
    }
   ],
   "source": [
    "#Q5. Logical Operators on float values\n",
    "\n",
    "print(10.20 and 20.30)\n",
    "print(0.0 and 20.30)\n",
    "print(20.30 and 0.0)\n",
    "print(0.0 and 0.0)\n",
    "print(10.20 or 20.30)\n",
    "print(0.0 or 20.30)\n",
    "print(20.30 or 0.0)\n",
    "print(0.0 or 0.0)\n",
    "print(not 10.20)\n",
    "print(not 0.0)\n",
    "\n",
    "\n"
   ]
  },
  {
   "cell_type": "code",
   "execution_count": 13,
   "id": "a481325a",
   "metadata": {},
   "outputs": [
    {
     "name": "stdout",
     "output_type": "stream",
     "text": [
      "2184821452304\n",
      "2184821786064\n",
      "2184821452304\n",
      "False\n",
      "True\n"
     ]
    }
   ],
   "source": [
    "#Q6. Check the output of the expression inside the print statement\n",
    "\n",
    "a=10.20\n",
    "b=10.20\n",
    "c=a\n",
    "\n",
    "#print(id(a))\n",
    "#print(id(b))\n",
    "#print(id(c))\n",
    "\n",
    "print( a is b)\n",
    "print(a is not b)\n"
   ]
  },
  {
   "cell_type": "code",
   "execution_count": 12,
   "id": "39fbcf50",
   "metadata": {},
   "outputs": [
    {
     "name": "stdout",
     "output_type": "stream",
     "text": [
      "True\n",
      "True\n",
      "True\n",
      "True\n",
      "True\n",
      "True\n"
     ]
    }
   ],
   "source": [
    "#Q7. Membership Operations\n",
    "\n",
    "print('2.7' in 'Python2.7.8')\n",
    "print(10.20 in [10,10.20,10+20j,'Python'])\n",
    "print(10.20 in (10,10.20,10+20j,'Python'))\n",
    "print(20.30 in {1,20.30,30+40j})\n",
    "print(2.3 in {1:100,2.3:200,30+40j:300})\n",
    "print(10 in range(20))"
   ]
  },
  {
   "cell_type": "code",
   "execution_count": null,
   "id": "fc705720",
   "metadata": {},
   "outputs": [],
   "source": []
  }
 ],
 "metadata": {
  "kernelspec": {
   "display_name": "Python 3 (ipykernel)",
   "language": "python",
   "name": "python3"
  },
  "language_info": {
   "codemirror_mode": {
    "name": "ipython",
    "version": 3
   },
   "file_extension": ".py",
   "mimetype": "text/x-python",
   "name": "python",
   "nbconvert_exporter": "python",
   "pygments_lexer": "ipython3",
   "version": "3.9.7"
  }
 },
 "nbformat": 4,
 "nbformat_minor": 5
}
